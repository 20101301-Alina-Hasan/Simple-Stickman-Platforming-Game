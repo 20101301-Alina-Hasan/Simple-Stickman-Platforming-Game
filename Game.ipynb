{
  "cells": [
    {
      "cell_type": "markdown",
      "metadata": {
        "id": "izxIdTsQMZGC"
      },
      "source": [
        "# `Import & Display Size`"
      ]
    },
    {
      "cell_type": "code",
      "execution_count": null,
      "metadata": {
        "colab": {
          "background_save": true
        },
        "id": "L3y0yGFYiWRI",
        "outputId": "f5628099-08c5-4a3e-af8a-d6e1ad324539"
      },
      "outputs": [
        {
          "name": "stdout",
          "output_type": "stream",
          "text": [
            "\u001b[31mERROR: pip's dependency resolver does not currently take into account all the packages that are installed. This behaviour is the source of the following dependency conflicts.\n",
            "xarray 2022.12.0 requires numpy>=1.20, but you have numpy 1.19.0 which is incompatible.\n",
            "xarray-einstats 0.5.1 requires numpy>=1.20, but you have numpy 1.19.0 which is incompatible.\n",
            "tensorflow 2.12.0 requires numpy<1.24,>=1.22, but you have numpy 1.19.0 which is incompatible.\n",
            "opencv-python 4.7.0.72 requires numpy>=1.19.3; python_version >= \"3.9\", but you have numpy 1.19.0 which is incompatible.\n",
            "opencv-python-headless 4.7.0.72 requires numpy>=1.19.3; python_version >= \"3.9\", but you have numpy 1.19.0 which is incompatible.\n",
            "opencv-contrib-python 4.7.0.72 requires numpy>=1.19.3; python_version >= \"3.9\", but you have numpy 1.19.0 which is incompatible.\n",
            "ml-dtypes 0.0.4 requires numpy>1.20, but you have numpy 1.19.0 which is incompatible.\n",
            "matplotlib 3.7.1 requires numpy>=1.20, but you have numpy 1.19.0 which is incompatible.\n",
            "librosa 0.10.0.post2 requires numpy!=1.22.0,!=1.22.1,!=1.22.2,>=1.20.3, but you have numpy 1.19.0 which is incompatible.\n",
            "jaxlib 0.4.7+cuda11.cudnn86 requires numpy>=1.21, but you have numpy 1.19.0 which is incompatible.\n",
            "jax 0.4.7 requires numpy>=1.21, but you have numpy 1.19.0 which is incompatible.\n",
            "cupy-cuda11x 11.0.0 requires numpy<1.26,>=1.20, but you have numpy 1.19.0 which is incompatible.\n",
            "cmdstanpy 1.1.0 requires numpy>=1.21, but you have numpy 1.19.0 which is incompatible.\n",
            "astropy 5.2.2 requires numpy>=1.20, but you have numpy 1.19.0 which is incompatible.\n",
            "arviz 0.15.1 requires numpy>=1.20.0, but you have numpy 1.19.0 which is incompatible.\u001b[0m\u001b[31m\n",
            "\u001b[0m"
          ]
        }
      ],
      "source": [
        "!pip install -q lucid>=0.2.3"
      ]
    },
    {
      "cell_type": "code",
      "execution_count": null,
      "metadata": {
        "id": "YXv13t34XX7o"
      },
      "outputs": [],
      "source": [
        "#IMPORT & DISPLAY-SIZE---------------------\n",
        "\n",
        "import numpy as np\n",
        "import math\n",
        "\n",
        "import ctypes.util\n",
        "from lucid.misc.gl.glcontext import create_opengl_context\n",
        "\n",
        "import OpenGL.GL as gl\n",
        "from OpenGL.GLU import *\n",
        "\n",
        "import time\n",
        "from IPython.display import display\n",
        "from IPython.display import clear_output\n",
        "from PIL import Image\n",
        "\n",
        "WIDTH, HEIGHT = 800, 800\n",
        "create_opengl_context((WIDTH, HEIGHT))\n",
        "\n",
        "print(gl.glGetString(gl.GL_VERSION))\n",
        "print(gl.glGetString(gl.GL_VENDOR))\n",
        "#print(gl.glGetString(gl.GL_EXTENSIONS))\n"
      ]
    },
    {
      "cell_type": "markdown",
      "metadata": {
        "id": "5WIPXr9A0K4R"
      },
      "source": [
        "# Simple Stickman Platforming Game:\n",
        "\n",
        "\n",
        "\n",
        "\n",
        "\n",
        "\n"
      ]
    },
    {
      "cell_type": "markdown",
      "metadata": {
        "id": "QGXOKsLsMn6I"
      },
      "source": [
        "# `Draw Point`"
      ]
    },
    {
      "cell_type": "code",
      "execution_count": null,
      "metadata": {
        "id": "J4H0VBNsrPBt"
      },
      "outputs": [],
      "source": [
        "#NORMALIZATION-------------------------------\n",
        "\n",
        "def addVertex(a,b):\n",
        "    gl.glVertex2f(a/(WIDTH/2),b/(HEIGHT/2))\n",
        ""
      ]
    },
    {
      "cell_type": "code",
      "execution_count": null,
      "metadata": {
        "id": "46m4Vzev_pp7"
      },
      "outputs": [],
      "source": [
        "#AXIS----------------------------------------\n",
        "\n",
        "def drawAxis():\n",
        "    gl.glColor3f(1, 1, 1)\n",
        "    gl.glPointSize(1)\n",
        "    gl.glBegin(gl.GL_LINES)\n",
        "\n",
        "    addVertex(-WIDTH, 0)\n",
        "    addVertex(WIDTH, 0)\n",
        "    addVertex(0, -HEIGHT)\n",
        "    addVertex(0, HEIGHT)\n",
        "\n",
        "    gl.glEnd()\n"
      ]
    },
    {
      "cell_type": "code",
      "execution_count": null,
      "metadata": {
        "id": "ANi7Wf-hbL9Y"
      },
      "outputs": [],
      "source": [
        "#DRAW-POINT----------------------------------\n",
        "\n",
        "def drawPoint(x,y):\n",
        "    gl.glBegin(gl.GL_POINTS)\n",
        "\n",
        "    addVertex(x,y)\n",
        "\n",
        "    gl.glEnd()\n",
        ""
      ]
    },
    {
      "cell_type": "markdown",
      "metadata": {
        "id": "TmokzfQWm98d"
      },
      "source": [
        "# `Midpoint Algorithm`"
      ]
    },
    {
      "cell_type": "code",
      "execution_count": null,
      "metadata": {
        "id": "liW5hUpXmnAZ"
      },
      "outputs": [],
      "source": [
        "#MIDPOINT-ALGORITHM--------------------------\n",
        "\n",
        "def findZone(dx,dy):\n",
        "    zone = 0\n",
        "    if abs(dx) >= abs(dy):\n",
        "\n",
        "        if dx >= 0 and dy >= 0:\n",
        "\n",
        "            pass\n",
        "\n",
        "        if dx >= 0 and dy < 0:\n",
        "\n",
        "            zone = 7\n",
        "\n",
        "        if dx < 0 and dy >= 0:\n",
        "\n",
        "            zone = 3\n",
        "\n",
        "        if dx < 0 and dy < 0:\n",
        "\n",
        "            zone = 4\n",
        "\n",
        "    else:\n",
        "\n",
        "        if dx >= 0 and dy >= 0:\n",
        "\n",
        "            zone = 1\n",
        "\n",
        "        if dx >= 0 and dy < 0:\n",
        "\n",
        "            zone = 6\n",
        "\n",
        "        if dx < 0 and dy >= 0:\n",
        "\n",
        "            zone = 2\n",
        "\n",
        "        if dx < 0 and dy < 0:\n",
        "\n",
        "            zone = 5\n",
        "\n",
        "    return zone\n",
        "\n",
        "def convertZone(X1,Y1,zone):\n",
        "    if zone == 0:\n",
        "\n",
        "        pass\n",
        "\n",
        "    elif zone == 1:\n",
        "\n",
        "        X1,Y1 = Y1,X1\n",
        "\n",
        "    elif zone == 2:\n",
        "\n",
        "        X1,Y1 = Y1,-X1\n",
        "\n",
        "    elif zone == 3:\n",
        "\n",
        "        X1,Y1 = -X1,Y1\n",
        "\n",
        "    elif zone == 4:\n",
        "\n",
        "        X1,Y1 = -X1,-Y1\n",
        "\n",
        "    elif zone == 5:\n",
        "\n",
        "        X1,Y1 = -Y1,-X1\n",
        "\n",
        "    elif zone == 6:\n",
        "\n",
        "        X1,Y1 = -Y1,X1\n",
        "\n",
        "    elif zone == 7:\n",
        "\n",
        "        X1,Y1 = X1,-Y1\n",
        "\n",
        "    return X1,Y1\n",
        "\n",
        "def originZone(X1,Y1,zone):\n",
        "    if zone == 0:\n",
        "\n",
        "        pass\n",
        "\n",
        "    elif zone == 1:\n",
        "\n",
        "        X1,Y1 = Y1,X1\n",
        "\n",
        "    elif zone == 2:\n",
        "\n",
        "        X1,Y1 = -Y1,X1\n",
        "\n",
        "    elif zone == 3:\n",
        "\n",
        "        X1,Y1 = -X1,Y1\n",
        "\n",
        "    elif zone == 4:\n",
        "\n",
        "        X1,Y1 = -X1,-Y1\n",
        "\n",
        "    elif zone == 5:\n",
        "\n",
        "        X1,Y1 = -Y1,-X1\n",
        "\n",
        "    elif zone == 6:\n",
        "\n",
        "        X1,Y1 = Y1,-X1\n",
        "\n",
        "    elif zone == 7:\n",
        "\n",
        "        X1,Y1 = X1,-Y1\n",
        "\n",
        "    return X1,Y1\n",
        "\n",
        "def midPoint(X1,Y1,X2,Y2):\n",
        "    dx = X2 - X1\n",
        "    dy = Y2 - Y1\n",
        "    zone = findZone(dx,dy)\n",
        "    drawPoint(X1,Y1)\n",
        "    X1,Y1 = convertZone(X1,Y1,zone)\n",
        "    X2,Y2 = convertZone(X2,Y2,zone)\n",
        "    d = 2*dy - dx\n",
        "    x = X1\n",
        "    y = Y1\n",
        "    while x < X2:\n",
        "\n",
        "        x = x + 1\n",
        "        if d < 0:\n",
        "\n",
        "            d = d + dy\n",
        "\n",
        "        else:\n",
        "\n",
        "            d = d + dy - dx\n",
        "            y = y + 1\n",
        "\n",
        "        x_p,y_p = originZone(x,y,zone)\n",
        "        drawPoint(x_p,y_p)\n"
      ]
    },
    {
      "cell_type": "markdown",
      "metadata": {
        "id": "Nhat9bI5nI2v"
      },
      "source": [
        "# `Midpoint Circle Algorithm`\n",
        "\n",
        "\n"
      ]
    },
    {
      "cell_type": "code",
      "execution_count": null,
      "metadata": {
        "id": "Qhlkw45SC4bF"
      },
      "outputs": [],
      "source": [
        "#MIDPOINT-CIRCLE ALGORITHM-------------------\n",
        "\n",
        "def midpointCircle(r, X=0, Y=0):\n",
        "    d = 1 - r\n",
        "    x = 0\n",
        "    y = r\n",
        "    circlePoints(x, y, X, Y)\n",
        "    while x < y:\n",
        "        if d >= 0:  # Move South-East\n",
        "            d += 2 * x - 2 * y + 5\n",
        "            x += 1\n",
        "            y -= 1\n",
        "        else:  # Move East\n",
        "            d += 2 * x + 3\n",
        "            x += 1\n",
        "        circlePoints(x, y, X, Y)\n",
        "\n",
        "\n",
        "def circlePoints(x, y, X, Y):\n",
        "    drawPoint(x + X, y + Y)\n",
        "    drawPoint(y + X, x + Y)\n",
        "    drawPoint(y + X, -x + Y)\n",
        "    drawPoint(x + X, -y + Y)\n",
        "    drawPoint(-x + X, -y + Y)\n",
        "    drawPoint(-y + X, -x + Y)\n",
        "    drawPoint(-y + X, x + Y)\n",
        "    drawPoint(-x + X, y + Y)\n",
        ""
      ]
    },
    {
      "cell_type": "markdown",
      "metadata": {
        "id": "dYggpyjUnS7Y"
      },
      "source": [
        "# `Transformation`\n",
        "\n",
        "\n"
      ]
    },
    {
      "cell_type": "code",
      "execution_count": null,
      "metadata": {
        "id": "-CVQk-2SWT6_"
      },
      "outputs": [],
      "source": [
        "#TRANSFORMATION------------------------------\n",
        "\n",
        "def translate(m, tx=0, ty=0): # tx translate in x-axis; ty translate on y-axis\n",
        "    t = np.array([[1, 0, tx],\n",
        "                  [0, 1, ty],\n",
        "                  [0, 0, 1]])\n",
        "\n",
        "    return np.matmul(t, m)\n",
        "\n",
        "def reflect(m, rx=1, ry=1): # rx = -1, reflection on x axis; ry = -1, reflection on y axis\n",
        "    rl = np.array([[ry, 0, 0],\n",
        "                   [0, rx, 0],\n",
        "                   [0, 0, 1]])\n",
        "\n",
        "    return np.matmul(rl, m)\n",
        "\n",
        "def rotate(m, degree):  # anti-clockwise direction taken as +ve\n",
        "    theta = math.radians(degree)\n",
        "    a, b = math.cos(theta), math.sin(theta)\n",
        "    r = np.array([[a, -b, 0],\n",
        "                  [b, a, 0],\n",
        "                  [0, 0, 1]])\n",
        "\n",
        "    return np.matmul(r, m)\n",
        ""
      ]
    },
    {
      "cell_type": "markdown",
      "metadata": {
        "id": "HffGmKArneBv"
      },
      "source": [
        "# `Map & Power-up`"
      ]
    },
    {
      "cell_type": "code",
      "execution_count": null,
      "metadata": {
        "id": "1ykF_ibLu0PK"
      },
      "outputs": [],
      "source": [
        "#POWER-UP-----------------------------------------\n",
        "\n",
        "power_location = []\n",
        "def power_up(x1, y1, x2, y2):\n",
        "  gl.glColor3f(0.990, 0.940, 0.0115)\n",
        "  gl.glPointSize(2)\n",
        "\n",
        "  m1 = [[x1],\n",
        "        [y1],\n",
        "        [1]]\n",
        "\n",
        "  m2 = [[x2],\n",
        "        [y2],\n",
        "        [1]]\n",
        "\n",
        "  dx = abs(((x2 - x1) / 2) - 10) # Cube-Size = 20\n",
        "  location = [x1 + dx, x2 - dx, y1]\n",
        "  if location not in power_location:\n",
        "\n",
        "    power_location.append(location)\n",
        "\n",
        "  m11, m22 = translate(m1, dx, 20), translate(m2, -dx, 20)\n",
        "  midPoint(m11[0][0], m11[1][0], m22[0][0], m22[1][0]) # Bottom\n",
        "\n",
        "  dy = abs(m11[0][0] - m22[0][0])\n",
        "  m11a, m22a = translate(m11, 0, dy), translate(m22, 0, dy)\n",
        "  midPoint(m11a[0][0], m11a[1][0], m22a[0][0], m22a[1][0]) # Top\n",
        "\n",
        "  m11b, m22b = rotate(m11a, -90), rotate(m22a, -90) # Rotate Top 90 Degree Clockwise\n",
        "\n",
        "  dx1, dx2 = -(m11b[0][0] - m22a[0][0]), -(m22b[0][0] - m22[0][0])\n",
        "  dy1, dy2 = -(m11b[1][0] - m11a[1][0]), -(m22b[1][0] - m22[1][0])\n",
        "\n",
        "  m11b, m22b = translate(m11b, dx1, dy1), translate(m22b, dx1, dy2)\n",
        "  midPoint(m11b[0][0], m11b[1][0], m22b[0][0], m22b[1][0]) # Right\n",
        "\n",
        "  m11c, m22c = translate(m11b, -abs(m22a[0][0] - m11a[0][0]), 0), translate(m22b, -abs(m22[0][0] - m11[0][0]), 0)\n",
        "  midPoint(m11c[0][0], m11c[1][0], m22c[0][0], m22c[1][0]) # Left\n",
        "\n"
      ]
    },
    {
      "cell_type": "code",
      "execution_count": null,
      "metadata": {
        "id": "VnZS8qrTSBQ8"
      },
      "outputs": [],
      "source": [
        "#MAP-----------------------------------------\n",
        "\n",
        "def map():\n",
        "  gl.glPointSize(3.5)\n",
        "\n",
        "  # Level 1:\n",
        "  gl.glColor3f(1, 0, 0.950)\n",
        "\n",
        "  midPoint(-160, -300, 160, -300)\n",
        "\n",
        "  # Level 2:\n",
        "  gl.glColor3f(0.870, 0, 1)\n",
        "\n",
        "  midPoint(-280, -200, -160, -200)\n",
        "  midPoint(-60, -200, 60, -200) # Power-Up Platform\n",
        "  midPoint(160, -200, 280, -200)\n",
        "\n",
        "  # Level 3:\n",
        "  gl.glColor3f(0.720, 0, 1)\n",
        "\n",
        "  midPoint(160, -100, 280, -100)\n",
        "  midPoint(-240, -100, -120, -100) # Power-Up Platform\n",
        "\n",
        "  #Level 4:\n",
        "  gl.glColor3f(0.470, 0, 1)\n",
        "\n",
        "  midPoint(160, 0, 280, 0)\n",
        "  midPoint(-60, 0, 60, 0)\n",
        "  midPoint(-280, 0, -160, 0)\n",
        "\n",
        "  #Level 5:\n",
        "  gl.glColor3f(0.0200, 0, 1)\n",
        "\n",
        "  midPoint(-240, 100, -40, 100)\n",
        "  midPoint(40, 100, 240, 100) # Power-up Platform\n",
        "\n",
        "  #Level 6:\n",
        "  gl.glColor3f(0, 0.440, 1)\n",
        "\n",
        "  midPoint(160, 200, 280, 200)\n",
        "  midPoint(-60, 200, 60, 200)\n",
        "  midPoint(-280, 200, -160, 200)\n",
        "\n",
        "  #Level 7:\n",
        "  gl.glColor3f(0, 0.620, 1)\n",
        "\n",
        "  midPoint(-160, 300, 160, 300)\n",
        "\n",
        "  power_up(-60, -200, 60, -200)\n",
        "  power_up(-240, -100, -120, -100)\n",
        "  power_up(40, 100, 240, 100)\n"
      ]
    },
    {
      "cell_type": "markdown",
      "metadata": {
        "id": "mmVvQfH_lgFw"
      },
      "source": [
        "# `Stickman`\n",
        "\n"
      ]
    },
    {
      "cell_type": "code",
      "execution_count": null,
      "metadata": {
        "id": "HfhXdLibBq7L"
      },
      "outputs": [],
      "source": [
        "#STICKMAN-------------------------------------\n",
        "\n",
        "def stickman(x, y):\n",
        "  gl.glColor3f(1, 1, 1)\n",
        "  gl.glPointSize(1)\n",
        "\n",
        "  # m1 = [[x],\n",
        "  #       [y],\n",
        "  #       [1]]\n",
        "\n",
        "  # Left Leg--------\n",
        "  midPoint(x, y, x + 20, y + 20)\n",
        "\n",
        "  # m2 = translate(m1, 20, 20)\n",
        "  # midPoint(m1[0][0], m1[1][0], m2[0][0], m2[1][0])\n",
        "\n",
        "  # Right Leg-------\n",
        "  midPoint(x + 40, y, x + 20, y + 20)\n",
        "\n",
        "  # m11, m22 = reflect(m1, 1, -1), reflect(m2, 1, -1) # Reflect Left Leg on y-axis to give Right Leg\n",
        "  # dx = -(m22[0][0] - m2[0][0])\n",
        "  # m11, m22 = translate(m11, dx, 0), translate(m22, dx, 0)\n",
        "  # midPoint(m11[0][0], m11[1][0], m22[0][0], m22[1][0])\n",
        "\n",
        "  # Body------\n",
        "  midPoint(x + 20, y + 70, x + 20, y + 20)\n",
        "\n",
        "  # m3 = translate(m1, 20, 70)\n",
        "  # midPoint(m3[0][0], m3[1][0], m2[0][0], m2[1][0])\n",
        "\n",
        "  # Left Hand--------\n",
        "  midPoint(x, y + 50, x + 20, y + 60)\n",
        "\n",
        "  # m11a, m22a = translate(m1, 0, 50), translate(m2, 0, 50) # Shift Leg Leg to give Left Hand\n",
        "  # midPoint(m11a[0][0], m11a[1][0], m22a[0][0], m22a[1][0])\n",
        "\n",
        "  # Right Hand-------\n",
        "  midPoint(x + 40, y + 50, x + 20, y + 60)\n",
        "\n",
        "  # m11b, m22b = translate(m11, 0, 50), translate(m22, 0, 50) # Shift Right Leg to give Right Hand\n",
        "  # midPoint(m11b[0][0], m11b[1][0], m22b[0][0], m22b[1][0])\n",
        "\n",
        "  # Head--------\n",
        "  midpointCircle(7, x + 20, y + 80)\n",
        "\n",
        "  # m3 = translate(m1, 20, 80)\n",
        "  # midpointCircle(7, m3[0][0], m3[1][0])\n"
      ]
    },
    {
      "cell_type": "markdown",
      "metadata": {
        "id": "eYGRuk2SRvh1"
      },
      "source": [
        "# `Render Display`"
      ]
    },
    {
      "cell_type": "code",
      "execution_count": null,
      "metadata": {
        "id": "emT2JqKlRSQo"
      },
      "outputs": [],
      "source": [
        "#SHOW-RENDER-----------------------------------\n",
        "\n",
        "def showRender():\n",
        "  img_buf = gl.glReadPixelsub(0, 0, WIDTH, HEIGHT, gl.GL_RGB, gl.GL_UNSIGNED_BYTE)\n",
        "  img = np.frombuffer(img_buf,np.uint8).reshape(HEIGHT, WIDTH, 3)[::-1]\n",
        "  display(Image.fromarray(img,'RGB'))\n",
        "  gl.glClear(gl.GL_COLOR_BUFFER_BIT)\n",
        "\n",
        "  time.sleep(0.025)\n",
        "  clear_output(wait=True)\n",
        "\n",
        "# drawAxis\n",
        "# map()\n",
        "# stickman(0, -300)\n",
        "# showRender()\n"
      ]
    },
    {
      "cell_type": "markdown",
      "metadata": {
        "id": "rdFqffGxlnTH"
      },
      "source": [
        "# `Game`\n"
      ]
    },
    {
      "cell_type": "code",
      "execution_count": null,
      "metadata": {
        "colab": {
          "base_uri": "https://localhost:8080/",
          "height": 838
        },
        "id": "e6JCjyDMyE75",
        "outputId": "662a5b6a-3bc0-46c8-f6db-206c93b6a31d"
      },
      "outputs": [
        {
          "data": {
            "image/png": "[encoded data removed]",
            "text/plain": [
              "<PIL.Image.Image image mode=RGB size=800x800 at 0x7FF2108B1DC0>"
            ]
          },
          "metadata": {},
          "output_type": "display_data"
        }
      ],
      "source": [
        "#PLAY-GAME-------------------------------------\n",
        "\n",
        "def play(x=0, y=-300):\n",
        "\n",
        "  # drawAxis()\n",
        "  stickman(x, y)\n",
        "  map()\n",
        "  showRender()\n",
        "\n",
        "  move = ['w', 's', 'd', 'a', 'wd', 'wa', 'sd', 'sa']\n",
        "  while True:\n",
        "\n",
        "    i = input('W/A/S/D: ').lower()\n",
        "\n",
        "    if i == move[0]:\n",
        "\n",
        "      y += 100\n",
        "\n",
        "    elif i == move[1]:\n",
        "\n",
        "      y -= 100\n",
        "\n",
        "    elif i == move[2]:\n",
        "\n",
        "      x += 40\n",
        "\n",
        "    elif i == move[3]:\n",
        "\n",
        "      x -= 40\n",
        "\n",
        "    elif i == move[4]:\n",
        "\n",
        "      x += 80\n",
        "      y += 100\n",
        "\n",
        "    elif i == move[5]:\n",
        "\n",
        "      x -= 80\n",
        "      y += 100\n",
        "\n",
        "    elif i == move[6]:\n",
        "\n",
        "      x += 80\n",
        "      y -= 100\n",
        "\n",
        "    elif i == move[7]:\n",
        "\n",
        "      x -= 80\n",
        "      y -= 100\n",
        "\n",
        "    elif i not in move:\n",
        "\n",
        "      print('Unrecognized Character(s)')\n",
        "\n",
        "    # Power-up Platform------------------------\n",
        "\n",
        "    for p in power_location:\n",
        "\n",
        "      if y == p[2]:\n",
        "        if x >= p[0] - 20 and x<= p[1] + 20:\n",
        "\n",
        "          # print('Woohoo!')\n",
        "          y += 200\n",
        "\n",
        "    #------------------------------------------\n",
        "\n",
        "    if y == 300: # Level 7\n",
        "      if x >= -160 and x<= 160:\n",
        "\n",
        "        print('Welcome to Heaven!')\n",
        "        break\n",
        "\n",
        "      else:\n",
        "\n",
        "        y -= 100\n",
        "\n",
        "    if y == 200: # Level 6\n",
        "      if x >= 160 and x<= 280 - 40 or x >= -60 and x <= 60 - 40 or x >= -280 and x <= -160 - 40:\n",
        "\n",
        "        pass\n",
        "\n",
        "      else:\n",
        "\n",
        "        y -= 100\n",
        "\n",
        "    if y == 100: # Level 5\n",
        "      if x >= -240 and x <= -40 - 40 or x >= 40 and x<= 240 - 40:\n",
        "\n",
        "        pass\n",
        "\n",
        "      else:\n",
        "\n",
        "        y -= 100\n",
        "\n",
        "    if y == 0: # Level 4\n",
        "      if x >= 160 and x<= 280 - 40 or x >= -60 and x <= 60 - 40 or x >= -280 and x <= -160 - 40:\n",
        "\n",
        "        pass\n",
        "\n",
        "      else:\n",
        "\n",
        "        y -= 100\n",
        "\n",
        "    if y == -100: # Level 3\n",
        "      if x >= -240 and x<= -120 - 40 or x >= 160 and x <= 280 - 40:\n",
        "\n",
        "        pass\n",
        "\n",
        "      else:\n",
        "\n",
        "        y -= 100\n",
        "\n",
        "    if y == -200: # Level 2\n",
        "      if x >= -280 and x<= -160 - 40 or x >= -60 and x <= 60 - 40 or x >= 160 and x <= 280 - 40:\n",
        "\n",
        "        pass\n",
        "\n",
        "      else:\n",
        "\n",
        "       y -= 100\n",
        "\n",
        "    if y == -300: # Level 1\n",
        "      if x >= -160 and x <= 160 - 40:\n",
        "\n",
        "        pass\n",
        "\n",
        "      else:\n",
        "\n",
        "        print('Welcome to LIMBO')\n",
        "        break\n",
        "\n",
        "    if y == -400: # Level 0\n",
        "\n",
        "      print('Welcome to LIMBO')\n",
        "      break\n",
        "\n",
        "    stickman(x, y)\n",
        "    map()\n",
        "    # print(x,y)\n",
        "    showRender()\n",
        "\n",
        "play()\n"
      ]
    }
  ],
  "metadata": {
    "accelerator": "GPU",
    "colab": {
      "collapsed_sections": [
        "izxIdTsQMZGC",
        "QGXOKsLsMn6I",
        "TmokzfQWm98d",
        "Nhat9bI5nI2v",
        "dYggpyjUnS7Y",
        "HffGmKArneBv",
        "mmVvQfH_lgFw",
        "eYGRuk2SRvh1",
        "rdFqffGxlnTH"
      ],
      "provenance": []
    },
    "gpuClass": "standard",
    "kernelspec": {
      "display_name": "Python 3",
      "name": "python3"
    },
    "language_info": {
      "name": "python"
    }
  },
  "nbformat": 4,
  "nbformat_minor": 0
}